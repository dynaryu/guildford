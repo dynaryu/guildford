{
 "cells": [
  {
   "cell_type": "code",
   "execution_count": 134,
   "metadata": {
    "collapsed": true
   },
   "outputs": [],
   "source": [
    "import os\n",
    "import pandas as pd\n",
    "import numpy as np\n",
    "from collections import OrderedDict\n",
    "from scipy import stats\n",
    "\n",
    "import matplotlib\n",
    "%matplotlib inline\n",
    "import matplotlib.pyplot as plt\n",
    "import pylab\n",
    "\n",
    "pylab.rcParams['figure.figsize'] = (10.0, 8.0)\n",
    "pylab.rcParams['legend.numpoints'] = 1\n",
    "\n"
   ]
  },
  {
   "cell_type": "code",
   "execution_count": 2,
   "metadata": {
    "collapsed": true
   },
   "outputs": [],
   "source": [
    "output_dir = '../gm_res_bldg_Mw5.6D7/'\n",
    "site_tag = 'perth_res_bldg'\n",
    "path_gm = os.path.join(output_dir, '{}_motion'.format(site_tag))"
   ]
  },
  {
   "cell_type": "markdown",
   "metadata": {},
   "source": [
    "# read sitedb data "
   ]
  },
  {
   "cell_type": "code",
   "execution_count": 34,
   "metadata": {
    "collapsed": true
   },
   "outputs": [],
   "source": [
    "def convert_to_float(string):\n",
    "    val = string.split('-')[-1]\n",
    "    try:\n",
    "        float(val)\n",
    "        return float(val)\n",
    "    except ValueError:\n",
    "        # print \"Not a Number\"\n",
    "        return None\n"
   ]
  },
  {
   "cell_type": "code",
   "execution_count": 35,
   "metadata": {
    "collapsed": false
   },
   "outputs": [
    {
     "data": {
      "text/plain": [
       "1939.0"
      ]
     },
     "execution_count": 35,
     "metadata": {},
     "output_type": "execute_result"
    }
   ],
   "source": [
    "convert_to_float('1788 - 1939')"
   ]
  },
  {
   "cell_type": "code",
   "execution_count": 36,
   "metadata": {
    "collapsed": false
   },
   "outputs": [
    {
     "data": {
      "text/plain": [
       "True"
      ]
     },
     "execution_count": 36,
     "metadata": {},
     "output_type": "execute_result"
    }
   ],
   "source": [
    "convert_to_float('Unknown') is None"
   ]
  },
  {
   "cell_type": "code",
   "execution_count": 17,
   "metadata": {
    "collapsed": true
   },
   "outputs": [],
   "source": [
    "site = pd.read_csv('../input/Perth_Residential_Earthquake_Exposure_201607_EQRM.csv')"
   ]
  },
  {
   "cell_type": "code",
   "execution_count": 18,
   "metadata": {
    "collapsed": false
   },
   "outputs": [
    {
     "data": {
      "text/html": [
       "<div>\n",
       "<table border=\"1\" class=\"dataframe\">\n",
       "  <thead>\n",
       "    <tr style=\"text-align: right;\">\n",
       "      <th></th>\n",
       "      <th>BID</th>\n",
       "      <th>LATITUDE</th>\n",
       "      <th>LONGITUDE</th>\n",
       "      <th>GA_STRUCTU</th>\n",
       "      <th>STRUCTURE_</th>\n",
       "      <th>HAZUS_USAG</th>\n",
       "      <th>SUBURB</th>\n",
       "      <th>POSTCODE</th>\n",
       "      <th>YEAR_BUILT</th>\n",
       "      <th>HAZUS_STRU</th>\n",
       "      <th>CONTENTS_C</th>\n",
       "      <th>BUILDING_C</th>\n",
       "      <th>FLOOR_AREA</th>\n",
       "      <th>SURVEY_FAC</th>\n",
       "      <th>FCB_USAGE</th>\n",
       "      <th>SITE_CLASS</th>\n",
       "      <th>SA1_CODE</th>\n",
       "      <th>POPULATION</th>\n",
       "    </tr>\n",
       "  </thead>\n",
       "  <tbody>\n",
       "    <tr>\n",
       "      <th>0</th>\n",
       "      <td>100035</td>\n",
       "      <td>-32.782096</td>\n",
       "      <td>115.669845</td>\n",
       "      <td>URMLTILE</td>\n",
       "      <td>Building</td>\n",
       "      <td>RES1</td>\n",
       "      <td>HERRON</td>\n",
       "      <td>6211</td>\n",
       "      <td>1977 - 1981</td>\n",
       "      <td>URML</td>\n",
       "      <td>253</td>\n",
       "      <td>1542.1800</td>\n",
       "      <td>300</td>\n",
       "      <td>1</td>\n",
       "      <td>111</td>\n",
       "      <td>D</td>\n",
       "      <td>50201102101</td>\n",
       "      <td>2.182121</td>\n",
       "    </tr>\n",
       "    <tr>\n",
       "      <th>1</th>\n",
       "      <td>100045</td>\n",
       "      <td>-32.781880</td>\n",
       "      <td>115.698570</td>\n",
       "      <td>W1TIMBERMETAL</td>\n",
       "      <td>Building</td>\n",
       "      <td>RES1</td>\n",
       "      <td>HERRON</td>\n",
       "      <td>6211</td>\n",
       "      <td>1992 - 1996</td>\n",
       "      <td>W1</td>\n",
       "      <td>253</td>\n",
       "      <td>1593.6733</td>\n",
       "      <td>300</td>\n",
       "      <td>1</td>\n",
       "      <td>111</td>\n",
       "      <td>CD</td>\n",
       "      <td>50201102101</td>\n",
       "      <td>2.182121</td>\n",
       "    </tr>\n",
       "    <tr>\n",
       "      <th>2</th>\n",
       "      <td>100062</td>\n",
       "      <td>-32.781080</td>\n",
       "      <td>115.669370</td>\n",
       "      <td>URMLMETAL</td>\n",
       "      <td>Building</td>\n",
       "      <td>RES1</td>\n",
       "      <td>HERRON</td>\n",
       "      <td>6211</td>\n",
       "      <td>1987 - 1991</td>\n",
       "      <td>URML</td>\n",
       "      <td>253</td>\n",
       "      <td>1532.1433</td>\n",
       "      <td>300</td>\n",
       "      <td>1</td>\n",
       "      <td>111</td>\n",
       "      <td>D</td>\n",
       "      <td>50201102101</td>\n",
       "      <td>2.182121</td>\n",
       "    </tr>\n",
       "    <tr>\n",
       "      <th>3</th>\n",
       "      <td>100075</td>\n",
       "      <td>-32.780160</td>\n",
       "      <td>115.669040</td>\n",
       "      <td>URMLMETAL</td>\n",
       "      <td>Building</td>\n",
       "      <td>RES1</td>\n",
       "      <td>HERRON</td>\n",
       "      <td>6211</td>\n",
       "      <td>1987 - 1991</td>\n",
       "      <td>URML</td>\n",
       "      <td>253</td>\n",
       "      <td>1532.1433</td>\n",
       "      <td>300</td>\n",
       "      <td>1</td>\n",
       "      <td>111</td>\n",
       "      <td>D</td>\n",
       "      <td>50201102101</td>\n",
       "      <td>2.182121</td>\n",
       "    </tr>\n",
       "    <tr>\n",
       "      <th>4</th>\n",
       "      <td>100081</td>\n",
       "      <td>-32.779860</td>\n",
       "      <td>115.685090</td>\n",
       "      <td>W1TIMBERTILE</td>\n",
       "      <td>Building</td>\n",
       "      <td>RES1</td>\n",
       "      <td>HERRON</td>\n",
       "      <td>6211</td>\n",
       "      <td>1992 - 1996</td>\n",
       "      <td>W1</td>\n",
       "      <td>253</td>\n",
       "      <td>1461.9367</td>\n",
       "      <td>300</td>\n",
       "      <td>1</td>\n",
       "      <td>111</td>\n",
       "      <td>BC</td>\n",
       "      <td>50201102101</td>\n",
       "      <td>2.182121</td>\n",
       "    </tr>\n",
       "  </tbody>\n",
       "</table>\n",
       "</div>"
      ],
      "text/plain": [
       "      BID   LATITUDE   LONGITUDE     GA_STRUCTU STRUCTURE_ HAZUS_USAG  SUBURB  \\\n",
       "0  100035 -32.782096  115.669845       URMLTILE   Building       RES1  HERRON   \n",
       "1  100045 -32.781880  115.698570  W1TIMBERMETAL   Building       RES1  HERRON   \n",
       "2  100062 -32.781080  115.669370      URMLMETAL   Building       RES1  HERRON   \n",
       "3  100075 -32.780160  115.669040      URMLMETAL   Building       RES1  HERRON   \n",
       "4  100081 -32.779860  115.685090   W1TIMBERTILE   Building       RES1  HERRON   \n",
       "\n",
       "   POSTCODE   YEAR_BUILT HAZUS_STRU  CONTENTS_C  BUILDING_C  FLOOR_AREA  \\\n",
       "0      6211  1977 - 1981       URML         253   1542.1800         300   \n",
       "1      6211  1992 - 1996         W1         253   1593.6733         300   \n",
       "2      6211  1987 - 1991       URML         253   1532.1433         300   \n",
       "3      6211  1987 - 1991       URML         253   1532.1433         300   \n",
       "4      6211  1992 - 1996         W1         253   1461.9367         300   \n",
       "\n",
       "   SURVEY_FAC  FCB_USAGE SITE_CLASS     SA1_CODE  POPULATION  \n",
       "0           1        111          D  50201102101    2.182121  \n",
       "1           1        111         CD  50201102101    2.182121  \n",
       "2           1        111          D  50201102101    2.182121  \n",
       "3           1        111          D  50201102101    2.182121  \n",
       "4           1        111         BC  50201102101    2.182121  "
      ]
     },
     "execution_count": 18,
     "metadata": {},
     "output_type": "execute_result"
    }
   ],
   "source": [
    "site.head()"
   ]
  },
  {
   "cell_type": "code",
   "execution_count": 19,
   "metadata": {
    "collapsed": false
   },
   "outputs": [
    {
     "data": {
      "text/plain": [
       "(679040, 18)"
      ]
     },
     "execution_count": 19,
     "metadata": {},
     "output_type": "execute_result"
    }
   ],
   "source": [
    "site.shape"
   ]
  },
  {
   "cell_type": "code",
   "execution_count": 20,
   "metadata": {
    "collapsed": false
   },
   "outputs": [
    {
     "data": {
      "text/plain": [
       "Index([u'BID', u'LATITUDE', u'LONGITUDE', u'GA_STRUCTU', u'STRUCTURE_',\n",
       "       u'HAZUS_USAG', u'SUBURB', u'POSTCODE', u'YEAR_BUILT', u'HAZUS_STRU',\n",
       "       u'CONTENTS_C', u'BUILDING_C', u'FLOOR_AREA', u'SURVEY_FAC',\n",
       "       u'FCB_USAGE', u'SITE_CLASS', u'SA1_CODE', u'POPULATION'],\n",
       "      dtype='object')"
      ]
     },
     "execution_count": 20,
     "metadata": {},
     "output_type": "execute_result"
    }
   ],
   "source": [
    "site.columns"
   ]
  },
  {
   "cell_type": "code",
   "execution_count": 66,
   "metadata": {
    "collapsed": true
   },
   "outputs": [],
   "source": [
    "def assign_res_class(row):\n",
    "    URM_list = ['URMLTILE', 'URMLMETAL', 'URMMTILE', 'URMMMETAL']\n",
    "    tf_URM = row['GA_STRUCTU'] in URM_list\n",
    "\n",
    "    if tf_URM:\n",
    "        bldg = 'URM'\n",
    "    else:\n",
    "        bldg = 'Timber'\n",
    "\n",
    "    idx_1945 = convert_to_float(row['YEAR_BUILT'])\n",
    "        \n",
    "    if idx_1945 <=1946 or None:\n",
    "        age = 'Pre1945'\n",
    "    else:\n",
    "        age = 'Post1945'\n",
    "        \n",
    "    return '{}_{}'.format(bldg, age)\n"
   ]
  },
  {
   "cell_type": "code",
   "execution_count": 70,
   "metadata": {
    "collapsed": false
   },
   "outputs": [
    {
     "data": {
      "text/plain": [
       "'Timber_Post1945'"
      ]
     },
     "execution_count": 70,
     "metadata": {},
     "output_type": "execute_result"
    }
   ],
   "source": [
    "assign_res_class(site.loc[1])"
   ]
  },
  {
   "cell_type": "code",
   "execution_count": 73,
   "metadata": {
    "collapsed": false
   },
   "outputs": [],
   "source": [
    "site['BLDG_CLASS'] = site.apply(assign_res_class, axis=1)"
   ]
  },
  {
   "cell_type": "code",
   "execution_count": 74,
   "metadata": {
    "collapsed": false
   },
   "outputs": [
    {
     "data": {
      "text/plain": [
       "URM_Post1945       612082\n",
       "Timber_Post1945     37158\n",
       "URM_Pre1945         22265\n",
       "Timber_Pre1945       7535\n",
       "Name: BLDG_CLASS, dtype: int64"
      ]
     },
     "execution_count": 74,
     "metadata": {},
     "output_type": "execute_result"
    }
   ],
   "source": [
    "site['BLDG_CLASS'].value_counts()"
   ]
  },
  {
   "cell_type": "code",
   "execution_count": 129,
   "metadata": {
    "collapsed": false
   },
   "outputs": [
    {
     "data": {
      "text/plain": [
       "1976564.8809412196"
      ]
     },
     "execution_count": 129,
     "metadata": {},
     "output_type": "execute_result"
    }
   ],
   "source": [
    "site['POPULATION'].sum()"
   ]
  },
  {
   "cell_type": "markdown",
   "metadata": {},
   "source": [
    "# ground motion"
   ]
  },
  {
   "cell_type": "code",
   "execution_count": 79,
   "metadata": {
    "collapsed": false
   },
   "outputs": [],
   "source": [
    "soil = np.load(os.path.join(path_gm, 'soil_SA.npy'))\n",
    "periods = np.load(os.path.join(path_gm, 'atten_periods.npy'))"
   ]
  },
  {
   "cell_type": "code",
   "execution_count": 80,
   "metadata": {
    "collapsed": false
   },
   "outputs": [
    {
     "data": {
      "text/plain": [
       "(1, 1, 1, 679040, 1, 3)"
      ]
     },
     "execution_count": 80,
     "metadata": {},
     "output_type": "execute_result"
    }
   ],
   "source": [
    "soil.shape"
   ]
  },
  {
   "cell_type": "code",
   "execution_count": 81,
   "metadata": {
    "collapsed": false
   },
   "outputs": [
    {
     "data": {
      "text/plain": [
       "array([ 0. ,  0.3,  1. ])"
      ]
     },
     "execution_count": 81,
     "metadata": {},
     "output_type": "execute_result"
    }
   ],
   "source": [
    "periods"
   ]
  },
  {
   "cell_type": "code",
   "execution_count": 82,
   "metadata": {
    "collapsed": false
   },
   "outputs": [],
   "source": [
    "SA03= soil[0, 0, 0, :, 0, 1]"
   ]
  },
  {
   "cell_type": "code",
   "execution_count": 84,
   "metadata": {
    "collapsed": false
   },
   "outputs": [
    {
     "data": {
      "text/plain": [
       "(0.024258280680349756, 0.68185929003323964)"
      ]
     },
     "execution_count": 84,
     "metadata": {},
     "output_type": "execute_result"
    }
   ],
   "source": [
    "SA03.min(), SA03.max()"
   ]
  },
  {
   "cell_type": "code",
   "execution_count": 85,
   "metadata": {
    "collapsed": true
   },
   "outputs": [],
   "source": [
    "from eqrm_code.worden_et_al import worden_et_al"
   ]
  },
  {
   "cell_type": "code",
   "execution_count": 86,
   "metadata": {
    "collapsed": false
   },
   "outputs": [],
   "source": [
    "from eqrm_code.RSA2MMI import rsa2mmi_array"
   ]
  },
  {
   "cell_type": "code",
   "execution_count": null,
   "metadata": {
    "collapsed": false
   },
   "outputs": [],
   "source": [
    "help(worden_et_al)"
   ]
  },
  {
   "cell_type": "code",
   "execution_count": 87,
   "metadata": {
    "collapsed": true
   },
   "outputs": [],
   "source": [
    "mmi_by_worden_from_SA03 = worden_et_al(SA03*980.0, 0.3, 1)"
   ]
  },
  {
   "cell_type": "code",
   "execution_count": 88,
   "metadata": {
    "collapsed": true
   },
   "outputs": [],
   "source": [
    "site['mmi'] = mmi_by_worden_from_SA03"
   ]
  },
  {
   "cell_type": "code",
   "execution_count": 89,
   "metadata": {
    "collapsed": false
   },
   "outputs": [
    {
     "data": {
      "text/plain": [
       "(3.5855854962263578, 7.545172267832573)"
      ]
     },
     "execution_count": 89,
     "metadata": {},
     "output_type": "execute_result"
    }
   ],
   "source": [
    "mmi_by_worden_from_SA03.min(), mmi_by_worden_from_SA03.max()"
   ]
  },
  {
   "cell_type": "code",
   "execution_count": 90,
   "metadata": {
    "collapsed": true
   },
   "outputs": [],
   "source": [
    "mmi_by_AK_from_SA03 = rsa2mmi_array(SA03, period=0.3)"
   ]
  },
  {
   "cell_type": "code",
   "execution_count": 91,
   "metadata": {
    "collapsed": false
   },
   "outputs": [
    {
     "data": {
      "text/plain": [
       "(4.271477085720619, 8.2267181820009565)"
      ]
     },
     "execution_count": 91,
     "metadata": {},
     "output_type": "execute_result"
    }
   ],
   "source": [
    "mmi_by_AK_from_SA03.min(), mmi_by_AK_from_SA03.max()"
   ]
  },
  {
   "cell_type": "code",
   "execution_count": 92,
   "metadata": {
    "collapsed": false
   },
   "outputs": [],
   "source": [
    "dist = np.loadtxt(os.path.join('../gm_res_bldg_Mw5.6D7/', 'perth_res_bldg_distance_rup.txt'), skiprows=1)"
   ]
  },
  {
   "cell_type": "code",
   "execution_count": 93,
   "metadata": {
    "collapsed": false
   },
   "outputs": [
    {
     "data": {
      "text/plain": [
       "(679040,)"
      ]
     },
     "execution_count": 93,
     "metadata": {},
     "output_type": "execute_result"
    }
   ],
   "source": [
    "dist.shape"
   ]
  },
  {
   "cell_type": "code",
   "execution_count": 94,
   "metadata": {
    "collapsed": false
   },
   "outputs": [],
   "source": [
    "def IPE_by_Trevor(rhyp, mw):\n",
    "\n",
    "    from math import log10, sqrt, erf\n",
    "\n",
    "    c0 = 1.03561713242\n",
    "    c1 = 3.52596119278\n",
    "    c2 = -2.54489244045\n",
    "    c3 = 0.000941207727714\n",
    "    rref = 5.0\n",
    "    xh = 50.0\n",
    "    h1 = 0.191733112559\n",
    "    h2 = 0.148565183719\n",
    "    h3 = 0.0316028130321\n",
    "    \n",
    "#     mmi = np.zeros_like(rhyp)\n",
    "#     mmi[rhyp <= xh] = c0 * mw + c1 + c2 * log10(sqrt(rhyp[rhyp <= xh]**2 + rref**2)) + h1*erf((rhyp[rhyp <= xh]-7.0)/(h2*sqrt(2))) + h3\n",
    "#     mmi[rhyp > xh] = c0 * mw + c1 + c2 * log10(sqrt(rhyp[rhyp > xh]**2 + rref**2)) + c3 * (rhyp[rhyp > xh] - xh) + h1*erf((rhyp[rhyp > xh]-7.0)/(h2*sqrt(2))) + h3\n",
    "    mmi = np.zeros_like(rhyp)\n",
    "    idx = rhyp > xh\n",
    "    if sum(idx):\n",
    "        mmi[idx] = c0 * mw + c1 + c2 * log10(sqrt(rhyp[idx]**2 + rref**2)) + c3 * (rhyp[idx] - xh) + h1*erf((rhyp[idx]-7.0)/(h2*sqrt(2))) + h3\n",
    "    \n",
    "    idx = rhyp <= xh\n",
    "    if sum(idx):\n",
    "        mmi[idx] = c0 * mw + c1 + c2 * log10(sqrt(rhyp[idx]**2 + rref**2)) + h1*erf((rhyp[idx]-7.0)/(h2*sqrt(2))) + h3\n",
    "\n",
    "    return mmi\n",
    "    "
   ]
  },
  {
   "cell_type": "code",
   "execution_count": 95,
   "metadata": {
    "collapsed": false
   },
   "outputs": [
    {
     "data": {
      "text/plain": [
       "(4.4345999999999997, 100.27)"
      ]
     },
     "execution_count": 95,
     "metadata": {},
     "output_type": "execute_result"
    }
   ],
   "source": [
    "dist.min(), dist.max()"
   ]
  },
  {
   "cell_type": "code",
   "execution_count": 96,
   "metadata": {
    "collapsed": false
   },
   "outputs": [],
   "source": [
    "mmi_by_IPE = IPE_by_Trevor(np.array([4.0, 100.0]), 5.6)"
   ]
  },
  {
   "cell_type": "code",
   "execution_count": 97,
   "metadata": {
    "collapsed": false
   },
   "outputs": [
    {
     "data": {
      "text/plain": [
       "array([ 7.11310611,  4.50464875])"
      ]
     },
     "execution_count": 97,
     "metadata": {},
     "output_type": "execute_result"
    }
   ],
   "source": [
    "mmi_by_IPE"
   ]
  },
  {
   "cell_type": "markdown",
   "metadata": {},
   "source": [
    "# vulnerability"
   ]
  },
  {
   "cell_type": "code",
   "execution_count": 78,
   "metadata": {
    "collapsed": true
   },
   "outputs": [],
   "source": [
    "def compute_vulnerability(row):\n",
    "\n",
    "    def inv_logit(x):\n",
    "        return np.exp(x)/(1.0 + np.exp(x))\n",
    "\n",
    "    def compute_mu(mmi, **kwargs):\n",
    "\n",
    "        coef = {\n",
    "            \"t0\": -8.56,\n",
    "            \"t1\": 0.92,\n",
    "            \"t2\": -4.82,\n",
    "            \"t3\": 2.74,\n",
    "            \"t4\": 0.49,\n",
    "            \"t5\": -0.31}\n",
    "\n",
    "        flag_timber = kwargs['flag_timber']\n",
    "        flag_pre = kwargs['flag_pre']\n",
    "\n",
    "        mu = coef[\"t0\"] +\\\n",
    "            coef[\"t1\"]*mmi +\\\n",
    "            coef[\"t2\"]*flag_timber +\\\n",
    "            coef[\"t3\"]*flag_pre +\\\n",
    "            coef[\"t4\"]*flag_timber*mmi +\\\n",
    "            coef[\"t5\"]*flag_pre*mmi\n",
    "        return mu\n",
    "\n",
    "    flag_timber = 'Timber' in row['BLDG_CLASS']\n",
    "    flag_pre = 'Pre' in row['BLDG_CLASS']\n",
    "\n",
    "    # correction of vulnerability suggested by Mark\n",
    "    if row['mmi'] < 5.5:\n",
    "        prob55 = inv_logit(compute_mu(5.5,\n",
    "                           flag_timber=flag_timber,\n",
    "                           flag_pre=flag_pre))\n",
    "        return(np.interp(row['mmi'], [4.0, 5.5], [0.0, prob55], left=0.0))\n",
    "    else:\n",
    "        mu = compute_mu(row['mmi'],\n",
    "                        flag_timber=flag_timber,\n",
    "                        flag_pre=flag_pre)\n",
    "        return(inv_logit(mu))\n"
   ]
  },
  {
   "cell_type": "code",
   "execution_count": 123,
   "metadata": {
    "collapsed": true
   },
   "outputs": [],
   "source": [
    "def plot_vulnerabilty():\n",
    "    ''' plot vulnerability'''\n",
    "\n",
    "    mmi_range = np.arange(4.0, 10.0, 0.05)\n",
    "\n",
    "    vul = OrderedDict()\n",
    "    for bldg in ['Timber_Pre1945', 'Timber_Post1945', 'URM_Pre1945',\n",
    "                 'URM_Post1945']:\n",
    "        tmp = []\n",
    "        for val in mmi_range:\n",
    "            temp = {'mmi': val, 'BLDG_CLASS': bldg}\n",
    "            tmp.append(compute_vulnerability(temp))\n",
    "        vul[bldg] = np.array(tmp)\n",
    "\n",
    "    line_type = ['b--', 'b-', 'r--', 'r-']\n",
    "    plt.figure()\n",
    "    for bldg, line_ in zip(vul.keys(), line_type):\n",
    "        label_str = bldg.replace('_', ':')\n",
    "        plt.plot(mmi_range, vul[bldg],  line_, label=label_str)\n",
    "\n",
    "    plt.legend(loc=2)\n",
    "    plt.grid(1)\n",
    "    plt.xlabel('MMI')\n",
    "    plt.ylabel('Loss ratio')\n",
    "    plt.xlim([4, 8.0])\n",
    "    plt.ylim([0, 0.3])\n"
   ]
  },
  {
   "cell_type": "code",
   "execution_count": 124,
   "metadata": {
    "collapsed": false
   },
   "outputs": [
    {
     "data": {
      "image/png": "[encoded data removed]",
      "text/plain": [
       "<matplotlib.figure.Figure at 0x10a103650>"
      ]
     },
     "metadata": {},
     "output_type": "display_data"
    }
   ],
   "source": [
    "plot_vulnerabilty()"
   ]
  },
  {
   "cell_type": "code",
   "execution_count": 100,
   "metadata": {
    "collapsed": false
   },
   "outputs": [
    {
     "data": {
      "text/plain": [
       "0.0"
      ]
     },
     "execution_count": 100,
     "metadata": {},
     "output_type": "execute_result"
    }
   ],
   "source": [
    "compute_vulnerability(site.loc[30])"
   ]
  },
  {
   "cell_type": "code",
   "execution_count": 112,
   "metadata": {
    "collapsed": false
   },
   "outputs": [
    {
     "data": {
      "text/plain": [
       "mmi\n",
       "(3, 3.5]         0\n",
       "(3.5, 4]     27819\n",
       "(4, 4.5]     69666\n",
       "(4.5, 5]    153800\n",
       "(5, 5.5]    146346\n",
       "(5.5, 6]    107642\n",
       "(6, 6.5]     72822\n",
       "(6.5, 7]     63895\n",
       "(7, 7.5]     36880\n",
       "(7.5, 8]       170\n",
       "dtype: int64"
      ]
     },
     "execution_count": 112,
     "metadata": {},
     "output_type": "execute_result"
    }
   ],
   "source": [
    "site['mmi'].groupby(pd.cut(site['mmi'], np.arange(3.0, 8.5, 0.5))).count()"
   ]
  },
  {
   "cell_type": "code",
   "execution_count": 125,
   "metadata": {
    "collapsed": true
   },
   "outputs": [],
   "source": [
    "site['loss_ratio'] = site.apply(compute_vulnerability, axis=1)"
   ]
  },
  {
   "cell_type": "code",
   "execution_count": 127,
   "metadata": {
    "collapsed": false
   },
   "outputs": [
    {
     "data": {
      "text/plain": [
       "loss_ratio\n",
       "(0, 0.05]      496472\n",
       "(0.05, 0.1]    104863\n",
       "(0.1, 0.15]     44021\n",
       "(0.15, 0.2]      5046\n",
       "(0.2, 0.25]       819\n",
       "(0.25, 0.3]         0\n",
       "(0.3, 0.35]         0\n",
       "dtype: int64"
      ]
     },
     "execution_count": 127,
     "metadata": {},
     "output_type": "execute_result"
    }
   ],
   "source": [
    "site['loss_ratio'].groupby(pd.cut(site['loss_ratio'], np.arange(0, 0.4, 0.05))).count()"
   ]
  },
  {
   "cell_type": "markdown",
   "metadata": {},
   "source": [
    "# summary "
   ]
  },
  {
   "cell_type": "code",
   "execution_count": null,
   "metadata": {
    "collapsed": true
   },
   "outputs": [],
   "source": []
  },
  {
   "cell_type": "markdown",
   "metadata": {},
   "source": [
    "# ground motion"
   ]
  },
  {
   "cell_type": "code",
   "execution_count": 15,
   "metadata": {
    "collapsed": false
   },
   "outputs": [],
   "source": [
    "soil = np.load(os.path.join(path_gm, 'soil_SA.npy'))\n",
    "periods = np.load(os.path.join(path_gm, 'atten_periods.npy'))"
   ]
  },
  {
   "cell_type": "code",
   "execution_count": 16,
   "metadata": {
    "collapsed": false
   },
   "outputs": [
    {
     "data": {
      "text/plain": [
       "(1, 1, 1, 679040, 1, 3)"
      ]
     },
     "execution_count": 16,
     "metadata": {},
     "output_type": "execute_result"
    }
   ],
   "source": [
    "soil.shape"
   ]
  },
  {
   "cell_type": "code",
   "execution_count": null,
   "metadata": {
    "collapsed": false
   },
   "outputs": [],
   "source": [
    "periods"
   ]
  },
  {
   "cell_type": "code",
   "execution_count": null,
   "metadata": {
    "collapsed": false
   },
   "outputs": [],
   "source": [
    "SA03= soil[0, 0, 0, :, 0, 1]"
   ]
  },
  {
   "cell_type": "code",
   "execution_count": null,
   "metadata": {
    "collapsed": false
   },
   "outputs": [],
   "source": [
    "SA03.shape"
   ]
  },
  {
   "cell_type": "code",
   "execution_count": null,
   "metadata": {
    "collapsed": false
   },
   "outputs": [],
   "source": [
    "SA03.min(), SA03.max()"
   ]
  },
  {
   "cell_type": "code",
   "execution_count": null,
   "metadata": {
    "collapsed": true
   },
   "outputs": [],
   "source": [
    "from eqrm_code.worden_et_al import worden_et_al"
   ]
  },
  {
   "cell_type": "code",
   "execution_count": null,
   "metadata": {
    "collapsed": false
   },
   "outputs": [],
   "source": [
    "from eqrm_code.RSA2MMI import rsa2mmi_array"
   ]
  },
  {
   "cell_type": "code",
   "execution_count": null,
   "metadata": {
    "collapsed": false
   },
   "outputs": [],
   "source": [
    "help(worden_et_al)"
   ]
  },
  {
   "cell_type": "code",
   "execution_count": null,
   "metadata": {
    "collapsed": true
   },
   "outputs": [],
   "source": [
    "mmi_by_worden_from_SA03 = worden_et_al(SA03*980.0, 0.3, 1)"
   ]
  },
  {
   "cell_type": "code",
   "execution_count": null,
   "metadata": {
    "collapsed": false
   },
   "outputs": [],
   "source": [
    "mmi_by_worden_from_SA03.min(), mmi_by_worden_from_SA03.max()"
   ]
  },
  {
   "cell_type": "code",
   "execution_count": null,
   "metadata": {
    "collapsed": true
   },
   "outputs": [],
   "source": [
    "mmi_by_AK_from_SA03 = rsa2mmi_array(SA03, period=0.3)"
   ]
  },
  {
   "cell_type": "code",
   "execution_count": null,
   "metadata": {
    "collapsed": false
   },
   "outputs": [],
   "source": [
    "mmi_by_AK_from_SA03.min(), mmi_by_AK_from_SA03.max()"
   ]
  },
  {
   "cell_type": "code",
   "execution_count": null,
   "metadata": {
    "collapsed": false
   },
   "outputs": [],
   "source": [
    "dist = np.loadtxt(os.path.join('../gm_res_bldg_Mw5.6D7/', 'perth_res_bldg_distance_rup.txt'), skiprows=1)"
   ]
  },
  {
   "cell_type": "code",
   "execution_count": null,
   "metadata": {
    "collapsed": false
   },
   "outputs": [],
   "source": [
    "dist.shape"
   ]
  },
  {
   "cell_type": "code",
   "execution_count": null,
   "metadata": {
    "collapsed": true
   },
   "outputs": [],
   "source": [
    "a = np.array([10.0, 20.0])"
   ]
  },
  {
   "cell_type": "code",
   "execution_count": null,
   "metadata": {
    "collapsed": false
   },
   "outputs": [],
   "source": [
    "mmi = np.zeros_like(a)\n",
    "mmi[a < 0]"
   ]
  },
  {
   "cell_type": "code",
   "execution_count": null,
   "metadata": {
    "collapsed": false
   },
   "outputs": [],
   "source": [
    "def IPE_by_Trevor(rhyp, mw):\n",
    "\n",
    "    from math import log10, sqrt, erf\n",
    "\n",
    "    c0 = 1.03561713242\n",
    "    c1 = 3.52596119278\n",
    "    c2 = -2.54489244045\n",
    "    c3 = 0.000941207727714\n",
    "    rref = 5.0\n",
    "    xh = 50.0\n",
    "    h1 = 0.191733112559\n",
    "    h2 = 0.148565183719\n",
    "    h3 = 0.0316028130321\n",
    "    \n",
    "#     mmi = np.zeros_like(rhyp)\n",
    "#     mmi[rhyp <= xh] = c0 * mw + c1 + c2 * log10(sqrt(rhyp[rhyp <= xh]**2 + rref**2)) + h1*erf((rhyp[rhyp <= xh]-7.0)/(h2*sqrt(2))) + h3\n",
    "#     mmi[rhyp > xh] = c0 * mw + c1 + c2 * log10(sqrt(rhyp[rhyp > xh]**2 + rref**2)) + c3 * (rhyp[rhyp > xh] - xh) + h1*erf((rhyp[rhyp > xh]-7.0)/(h2*sqrt(2))) + h3\n",
    "    mmi = np.zeros_like(rhyp)\n",
    "    idx = rhyp > xh\n",
    "    if sum(idx):\n",
    "        mmi[idx] = c0 * mw + c1 + c2 * log10(sqrt(rhyp[idx]**2 + rref**2)) + c3 * (rhyp[idx] - xh) + h1*erf((rhyp[idx]-7.0)/(h2*sqrt(2))) + h3\n",
    "    \n",
    "    idx = rhyp <= xh\n",
    "    if sum(idx):\n",
    "        mmi[idx] = c0 * mw + c1 + c2 * log10(sqrt(rhyp[idx]**2 + rref**2)) + h1*erf((rhyp[idx]-7.0)/(h2*sqrt(2))) + h3\n",
    "\n",
    "    return mmi\n",
    "    "
   ]
  },
  {
   "cell_type": "code",
   "execution_count": null,
   "metadata": {
    "collapsed": false
   },
   "outputs": [],
   "source": [
    "dist.min(), dist.max()"
   ]
  },
  {
   "cell_type": "code",
   "execution_count": null,
   "metadata": {
    "collapsed": false
   },
   "outputs": [],
   "source": [
    "mmi_by_IPE = IPE_by_Trevor(np.array([4.0, 100.0]), 5.6)"
   ]
  },
  {
   "cell_type": "code",
   "execution_count": null,
   "metadata": {
    "collapsed": false
   },
   "outputs": [],
   "source": [
    "mmi_by_IPE"
   ]
  },
  {
   "cell_type": "code",
   "execution_count": null,
   "metadata": {
    "collapsed": false
   },
   "outputs": [],
   "source": [
    "dist"
   ]
  },
  {
   "cell_type": "markdown",
   "metadata": {},
   "source": [
    "## damage state"
   ]
  },
  {
   "cell_type": "markdown",
   "metadata": {},
   "source": [
    "# ground motion"
   ]
  },
  {
   "cell_type": "code",
   "execution_count": 15,
   "metadata": {
    "collapsed": false
   },
   "outputs": [],
   "source": [
    "soil = np.load(os.path.join(path_gm, 'soil_SA.npy'))\n",
    "periods = np.load(os.path.join(path_gm, 'atten_periods.npy'))"
   ]
  },
  {
   "cell_type": "code",
   "execution_count": 16,
   "metadata": {
    "collapsed": false
   },
   "outputs": [
    {
     "data": {
      "text/plain": [
       "(1, 1, 1, 679040, 1, 3)"
      ]
     },
     "execution_count": 16,
     "metadata": {},
     "output_type": "execute_result"
    }
   ],
   "source": [
    "soil.shape"
   ]
  },
  {
   "cell_type": "code",
   "execution_count": null,
   "metadata": {
    "collapsed": false
   },
   "outputs": [],
   "source": [
    "periods"
   ]
  },
  {
   "cell_type": "code",
   "execution_count": null,
   "metadata": {
    "collapsed": false
   },
   "outputs": [],
   "source": [
    "SA03= soil[0, 0, 0, :, 0, 1]"
   ]
  },
  {
   "cell_type": "code",
   "execution_count": null,
   "metadata": {
    "collapsed": false
   },
   "outputs": [],
   "source": [
    "SA03.shape"
   ]
  },
  {
   "cell_type": "code",
   "execution_count": null,
   "metadata": {
    "collapsed": false
   },
   "outputs": [],
   "source": [
    "SA03.min(), SA03.max()"
   ]
  },
  {
   "cell_type": "code",
   "execution_count": null,
   "metadata": {
    "collapsed": true
   },
   "outputs": [],
   "source": [
    "from eqrm_code.worden_et_al import worden_et_al"
   ]
  },
  {
   "cell_type": "code",
   "execution_count": null,
   "metadata": {
    "collapsed": false
   },
   "outputs": [],
   "source": [
    "from eqrm_code.RSA2MMI import rsa2mmi_array"
   ]
  },
  {
   "cell_type": "code",
   "execution_count": null,
   "metadata": {
    "collapsed": false
   },
   "outputs": [],
   "source": [
    "help(worden_et_al)"
   ]
  },
  {
   "cell_type": "code",
   "execution_count": null,
   "metadata": {
    "collapsed": true
   },
   "outputs": [],
   "source": [
    "mmi_by_worden_from_SA03 = worden_et_al(SA03*980.0, 0.3, 1)"
   ]
  },
  {
   "cell_type": "code",
   "execution_count": null,
   "metadata": {
    "collapsed": false
   },
   "outputs": [],
   "source": [
    "mmi_by_worden_from_SA03.min(), mmi_by_worden_from_SA03.max()"
   ]
  },
  {
   "cell_type": "code",
   "execution_count": null,
   "metadata": {
    "collapsed": true
   },
   "outputs": [],
   "source": [
    "mmi_by_AK_from_SA03 = rsa2mmi_array(SA03, period=0.3)"
   ]
  },
  {
   "cell_type": "code",
   "execution_count": null,
   "metadata": {
    "collapsed": false
   },
   "outputs": [],
   "source": [
    "mmi_by_AK_from_SA03.min(), mmi_by_AK_from_SA03.max()"
   ]
  },
  {
   "cell_type": "code",
   "execution_count": null,
   "metadata": {
    "collapsed": false
   },
   "outputs": [],
   "source": [
    "dist = np.loadtxt(os.path.join('../gm_res_bldg_Mw5.6D7/', 'perth_res_bldg_distance_rup.txt'), skiprows=1)"
   ]
  },
  {
   "cell_type": "code",
   "execution_count": null,
   "metadata": {
    "collapsed": false
   },
   "outputs": [],
   "source": [
    "dist.shape"
   ]
  },
  {
   "cell_type": "code",
   "execution_count": null,
   "metadata": {
    "collapsed": true
   },
   "outputs": [],
   "source": [
    "a = np.array([10.0, 20.0])"
   ]
  },
  {
   "cell_type": "code",
   "execution_count": null,
   "metadata": {
    "collapsed": false
   },
   "outputs": [],
   "source": [
    "mmi = np.zeros_like(a)\n",
    "mmi[a < 0]"
   ]
  },
  {
   "cell_type": "code",
   "execution_count": null,
   "metadata": {
    "collapsed": false
   },
   "outputs": [],
   "source": [
    "def IPE_by_Trevor(rhyp, mw):\n",
    "\n",
    "    from math import log10, sqrt, erf\n",
    "\n",
    "    c0 = 1.03561713242\n",
    "    c1 = 3.52596119278\n",
    "    c2 = -2.54489244045\n",
    "    c3 = 0.000941207727714\n",
    "    rref = 5.0\n",
    "    xh = 50.0\n",
    "    h1 = 0.191733112559\n",
    "    h2 = 0.148565183719\n",
    "    h3 = 0.0316028130321\n",
    "    \n",
    "#     mmi = np.zeros_like(rhyp)\n",
    "#     mmi[rhyp <= xh] = c0 * mw + c1 + c2 * log10(sqrt(rhyp[rhyp <= xh]**2 + rref**2)) + h1*erf((rhyp[rhyp <= xh]-7.0)/(h2*sqrt(2))) + h3\n",
    "#     mmi[rhyp > xh] = c0 * mw + c1 + c2 * log10(sqrt(rhyp[rhyp > xh]**2 + rref**2)) + c3 * (rhyp[rhyp > xh] - xh) + h1*erf((rhyp[rhyp > xh]-7.0)/(h2*sqrt(2))) + h3\n",
    "    mmi = np.zeros_like(rhyp)\n",
    "    idx = rhyp > xh\n",
    "    if sum(idx):\n",
    "        mmi[idx] = c0 * mw + c1 + c2 * log10(sqrt(rhyp[idx]**2 + rref**2)) + c3 * (rhyp[idx] - xh) + h1*erf((rhyp[idx]-7.0)/(h2*sqrt(2))) + h3\n",
    "    \n",
    "    idx = rhyp <= xh\n",
    "    if sum(idx):\n",
    "        mmi[idx] = c0 * mw + c1 + c2 * log10(sqrt(rhyp[idx]**2 + rref**2)) + h1*erf((rhyp[idx]-7.0)/(h2*sqrt(2))) + h3\n",
    "\n",
    "    return mmi\n",
    "    "
   ]
  },
  {
   "cell_type": "code",
   "execution_count": null,
   "metadata": {
    "collapsed": false
   },
   "outputs": [],
   "source": [
    "dist.min(), dist.max()"
   ]
  },
  {
   "cell_type": "code",
   "execution_count": null,
   "metadata": {
    "collapsed": false
   },
   "outputs": [],
   "source": [
    "mmi_by_IPE = IPE_by_Trevor(np.array([4.0, 100.0]), 5.6)"
   ]
  },
  {
   "cell_type": "code",
   "execution_count": null,
   "metadata": {
    "collapsed": false
   },
   "outputs": [],
   "source": [
    "mmi_by_IPE"
   ]
  },
  {
   "cell_type": "code",
   "execution_count": null,
   "metadata": {
    "collapsed": false
   },
   "outputs": [],
   "source": [
    "dist"
   ]
  },
  {
   "cell_type": "code",
   "execution_count": 135,
   "metadata": {
    "collapsed": true
   },
   "outputs": [],
   "source": [
    "def sample_vulnerability(mean_lratio, nsample=1000, cov=1.0):\n",
    "\n",
    "    \"\"\"\n",
    "    The probability density function for `gamma` is::\n",
    "\n",
    "        gamma.pdf(x, a) = lambda**a * x**(a-1) * exp(-lambda*x) / gamma(a)\n",
    "\n",
    "    for ``x >= 0``, ``a > 0``. Here ``gamma(a)`` refers to the gamma function.\n",
    "\n",
    "    The scale parameter is equal to ``scale = 1.0 / lambda``.\n",
    "\n",
    "    `gamma` has a shape parameter `a` which needs to be set explicitly. For\n",
    "    instance:\n",
    "\n",
    "        >>> from scipy.stats import gamma\n",
    "        >>> rv = gamma(3., loc = 0., scale = 2.)\n",
    "\n",
    "    shape: a\n",
    "    scale: b\n",
    "    mean = a*b\n",
    "    var = a*b*b\n",
    "    cov = 1/sqrt(a) = 1/sqrt(shape)\n",
    "    shape = (1/cov)^2\n",
    "    \"\"\"\n",
    "\n",
    "    shape_ = np.power(1.0/cov, 2.0)\n",
    "    scale_ = mean_lratio/shape_\n",
    "    sample = stats.gamma.rvs(shape_, loc=0, scale=scale_,\n",
    "                             size=(nsample, len(mean_lratio)))\n",
    "\n",
    "    sample[sample > 1] = 1.0\n",
    "\n",
    "    return sample\n"
   ]
  },
  {
   "cell_type": "code",
   "execution_count": 179,
   "metadata": {
    "collapsed": true
   },
   "outputs": [],
   "source": [
    "def assign_casualty(df_damage, casualty_rate):\n",
    "    \"\"\"\n",
    "    assign casualty rate for each building by building type\n",
    "    \"\"\"\n",
    "    casualty = {}\n",
    "\n",
    "    for severity in casualty_rate.minor_axis:\n",
    "\n",
    "        df_casualty = pd.DataFrame(df_damage.values)\n",
    "\n",
    "        for bldg, group in df_casualty.groupby(df_casualty.shape[1]-1):\n",
    "\n",
    "            # print \"%s: %s\" % (severity, bldg)\n",
    "            # replace_dic = casualty_rate[severity][bldg]\n",
    "            for ids, ds in enumerate(casualty_rate.items, start=1):\n",
    "                df_casualty[group == ids] = casualty_rate.loc[ds, bldg, severity]\n",
    "\n",
    "                #df_casualty.loc[group==ds] = replace_dic[ds]\n",
    "                #df_casualty.where(group==ds, replace_dic[ds], inplace=True)\n",
    "\n",
    "        casualty[severity] = df_casualty.copy()\n",
    "\n",
    "    return casualty\n"
   ]
  },
  {
   "cell_type": "code",
   "execution_count": 163,
   "metadata": {
    "collapsed": true
   },
   "outputs": [],
   "source": [
    "def read_hazus_collapse_rate(hazus_data_path, selected_bldg_class=None):\n",
    "    \"\"\"\n",
    "    read hazus collapse rate parameter values\n",
    "    \"\"\"\n",
    "\n",
    "    # read collapse rate (table 13.8)\n",
    "    fname = os.path.join(hazus_data_path, 'hazus_collapse_rate.csv')\n",
    "    collapse_rate = pd.read_csv(fname, skiprows=1, names=['Bldg type', 'rate'],\n",
    "                                index_col=0, usecols=[1, 2])\n",
    "    collapse_rate = collapse_rate.to_dict()['rate']\n",
    "\n",
    "    if selected_bldg_class is not None:\n",
    "        removed_bldg_class = (set(collapse_rate.keys())).difference(set(\n",
    "            selected_bldg_class))\n",
    "        [collapse_rate.pop(item) for item in removed_bldg_class]\n",
    "\n",
    "    return collapse_rate\n"
   ]
  },
  {
   "cell_type": "code",
   "execution_count": 164,
   "metadata": {
    "collapsed": true
   },
   "outputs": [],
   "source": [
    "def read_hazus_casualty_data(hazus_data_path, selected_bldg_class=None):\n",
    "    \"\"\"\n",
    "    read hazus casualty parameter values\n",
    "    \"\"\"\n",
    "\n",
    "    # read indoor casualty (table13.3 through 13.7)\n",
    "    severity_list = ['Severity{}'.format(i) for i in range(1, 5)]\n",
    "    list_ds = ['slight', 'moderate', 'extensive', 'complete', 'collapse']\n",
    "    colname = ['Bldg type', 'Severity1', 'Severity2', 'Severity3',\n",
    "               'Severity4']\n",
    "\n",
    "    dic_ = dict()\n",
    "    for ds in list_ds:\n",
    "\n",
    "        file_ = 'hazus_indoor_casualty_{}.csv'.format(ds)\n",
    "        fname = os.path.join(hazus_data_path, file_)\n",
    "\n",
    "        # tmp = pd.read_csv(fname, skiprows=1, header=None)\n",
    "        tmp = pd.read_csv(fname, skiprows=1,\n",
    "                          names=colname, usecols=[1, 2, 3, 4, 5], index_col=0)\n",
    "        if selected_bldg_class is not None:\n",
    "            okay = tmp.index.isin(selected_bldg_class)\n",
    "            dic_[ds] = tmp.ix[okay]\n",
    "        else:\n",
    "            dic_[ds] = tmp\n",
    "\n",
    "    casualty_rate = pd.Panel(dic_, items=list_ds)\n",
    "    casualty_rate['none'] = 0.0\n",
    "    list_ds.insert(0, 'none')\n",
    "    return casualty_rate[list_ds] # re-order the item\n",
    "\n"
   ]
  },
  {
   "cell_type": "code",
   "execution_count": 176,
   "metadata": {
    "collapsed": true
   },
   "outputs": [],
   "source": [
    "def assign_damage_state(data, sample, collapse_rate, damage_thresholds):\n",
    "    \"\"\"\n",
    "    assign damage state given damage state thresholds\n",
    "\n",
    "    \"\"\"\n",
    "\n",
    "    df_damage = np.digitize(np.transpose(sample), damage_thresholds)\n",
    "    df_damage = pd.DataFrame(df_damage)\n",
    "    df_damage['BLDG_CLASS'] = data['BLDG_CLASS']\n",
    "\n",
    "    # df_damage = pd.DataFrame(index=data.index, columns=range(nsample))\n",
    "\n",
    "    # # assign damage by loss ratio\n",
    "    # for i in range(nsample):\n",
    "    #     df_damage[i] = pd.cut(sample[i, :], damage_thresholds,\n",
    "    #                           labels=damage_labels)\n",
    "    #     df_damage[i] = df_damage[i].cat.add_categories(['collapse'])\n",
    "\n",
    "\n",
    "    # assign collapse\n",
    "    for name, group in df_damage.groupby('BLDG_CLASS'):\n",
    "\n",
    "        prob_collapse = collapse_rate[name]*1.0e-2\n",
    "\n",
    "        idx_group = group.index\n",
    "        group_array = group.values[:, :-1]\n",
    "\n",
    "        (idx_complete, idy_complete) = np.where(group_array == 5) # complte\n",
    "        ncomplete = len(idx_complete)\n",
    "        # temp = np.random.choice(['complete', 'collapse'], size=ncomplete,\n",
    "        #                         p=[1-prob_collapse, prob_collapse])\n",
    "        temp = np.random.choice([5, 6], size=ncomplete,\n",
    "                                p=[1-prob_collapse, prob_collapse])\n",
    "\n",
    "        idx_collapse = np.where(temp == 6)[0]\n",
    "        for i in idx_collapse:\n",
    "            df_damage.loc[idx_group[idx_complete[i]], idy_complete[i]] = 6\n",
    "\n",
    "    return df_damage\n"
   ]
  },
  {
   "cell_type": "code",
   "execution_count": 165,
   "metadata": {
    "collapsed": true
   },
   "outputs": [],
   "source": [
    "hazus_data_path = '/Users/hyeuk/Projects/scenario_Sydney/data/hazus/'\n",
    "collapse_rate = read_hazus_collapse_rate(hazus_data_path, selected_bldg_class)"
   ]
  },
  {
   "cell_type": "markdown",
   "metadata": {},
   "source": [
    "# no. of people replaced (loss ratio > 0.25)"
   ]
  },
  {
   "cell_type": "markdown",
   "metadata": {},
   "source": [
    "## casualty"
   ]
  },
  {
   "cell_type": "code",
   "execution_count": null,
   "metadata": {
    "collapsed": true
   },
   "outputs": [],
   "source": [
    "#mel = mel.loc[:100, :].copy()\n",
    "#output_path = os.path.join(working_path, 'tmp')\n",
    "\n",
    "# sample loss ratio assuming gamma distribution with constant cov\n",
    "nsample = 1000\n",
    "#nsample = 10\n",
    "cov = 1.0\n",
    "#okay = data[~data['LOSS_RATIO'].isnull()].index\n",
    "#mean_lratio = data.loc[okay, 'LOSS_RATIO'].values\n",
    "#pop = data.loc[okay, 'POPULATION'].values\n",
    "\n",
    "np.random.seed(99)\n",
    "# np.array(nsample, nbldgs)\n",
    "sampled = sample_vulnerability(site['loss_ratio'].values, nsample=nsample,\n",
    "                              cov=cov)\n"
   ]
  },
  {
   "cell_type": "code",
   "execution_count": 154,
   "metadata": {
    "collapsed": false
   },
   "outputs": [],
   "source": [
    "# nsample, no_bldg\n",
    "np.save('./sampled_loss_ratio.npy', sampled)\n"
   ]
  },
  {
   "cell_type": "code",
   "execution_count": 155,
   "metadata": {
    "collapsed": true
   },
   "outputs": [],
   "source": [
    "# no. of people to be replaced loss ratio > 0.25\n",
    "sub = site['SUBURB'].unique().tolist()\n",
    "no_replaced_by_sub = pd.DataFrame(0.0, columns=sub, index=range(nsample))\n",
    "for sub_str, grouped in site.groupby('SUBURB'):\n",
    "    #print sub_str, grouped.shape\n",
    "    no_replaced_by_sub[sub_str] = np.dot(sampled[:, grouped.index] > 0.25,\n",
    "                                         grouped['POPULATION'].values)\n"
   ]
  },
  {
   "cell_type": "markdown",
   "metadata": {},
   "source": [
    "## casualty"
   ]
  },
  {
   "cell_type": "code",
   "execution_count": null,
   "metadata": {
    "collapsed": true
   },
   "outputs": [],
   "source": [
    "#mel = mel.loc[:100, :].copy()\n",
    "#output_path = os.path.join(working_path, 'tmp')\n",
    "\n",
    "# sample loss ratio assuming gamma distribution with constant cov\n",
    "nsample = 1000\n",
    "#nsample = 10\n",
    "cov = 1.0\n",
    "#okay = data[~data['LOSS_RATIO'].isnull()].index\n",
    "#mean_lratio = data.loc[okay, 'LOSS_RATIO'].values\n",
    "#pop = data.loc[okay, 'POPULATION'].values\n",
    "\n",
    "np.random.seed(99)\n",
    "# np.array(nsample, nbldgs)\n",
    "sampled = sample_vulnerability(site['loss_ratio'].values, nsample=nsample,\n",
    "                              cov=cov)\n"
   ]
  },
  {
   "cell_type": "code",
   "execution_count": 154,
   "metadata": {
    "collapsed": false
   },
   "outputs": [],
   "source": [
    "# nsample, no_bldg\n",
    "np.save('./sampled_loss_ratio.npy', sampled)\n"
   ]
  },
  {
   "cell_type": "code",
   "execution_count": 161,
   "metadata": {
    "collapsed": false
   },
   "outputs": [
    {
     "data": {
      "text/plain": [
       "31445.228498809804"
      ]
     },
     "execution_count": 161,
     "metadata": {},
     "output_type": "execute_result"
    }
   ],
   "source": [
    "no_replaced_by_sub.sum(axis=1).mean()"
   ]
  },
  {
   "cell_type": "code",
   "execution_count": 166,
   "metadata": {
    "collapsed": true
   },
   "outputs": [],
   "source": [
    "no_replaced_total = np.dot(sampled > 0.25, site['POPULATION'].values)\n"
   ]
  },
  {
   "cell_type": "code",
   "execution_count": 170,
   "metadata": {
    "collapsed": false
   },
   "outputs": [],
   "source": [
    "# assign damage state\n",
    "damage_labels = ['no', 'slight', 'moderate', 'extensive', 'complete']\n",
    "damage_thresholds = [-1.0, 0.02, 0.1, 0.5, 0.8, 1.1]\n",
    "bldg_types = site['BLDG_CLASS'].unique()\n",
    "\n",
    "# fatality estimate\n",
    "# read hazus indoor casualty data\n",
    "casualty_rate = read_hazus_casualty_data(hazus_data_path,\n",
    "                                         selected_bldg_class=bldg_types)\n",
    "\n",
    "# read hazus collapse rate data\n",
    "collapse_rate = read_hazus_collapse_rate(hazus_data_path,\n",
    "                                         selected_bldg_class=bldg_types)\n",
    "\n"
   ]
  },
  {
   "cell_type": "code",
   "execution_count": 173,
   "metadata": {
    "collapsed": false
   },
   "outputs": [
    {
     "data": {
      "text/html": [
       "<div>\n",
       "<table border=\"1\" class=\"dataframe\">\n",
       "  <thead>\n",
       "    <tr style=\"text-align: right;\">\n",
       "      <th></th>\n",
       "      <th>Severity1</th>\n",
       "      <th>Severity2</th>\n",
       "      <th>Severity3</th>\n",
       "      <th>Severity4</th>\n",
       "    </tr>\n",
       "    <tr>\n",
       "      <th>Bldg type</th>\n",
       "      <th></th>\n",
       "      <th></th>\n",
       "      <th></th>\n",
       "      <th></th>\n",
       "    </tr>\n",
       "  </thead>\n",
       "  <tbody>\n",
       "    <tr>\n",
       "      <th>Timber_Pre1945</th>\n",
       "      <td>40</td>\n",
       "      <td>20</td>\n",
       "      <td>3</td>\n",
       "      <td>5</td>\n",
       "    </tr>\n",
       "    <tr>\n",
       "      <th>Timber_Post1945</th>\n",
       "      <td>40</td>\n",
       "      <td>20</td>\n",
       "      <td>3</td>\n",
       "      <td>5</td>\n",
       "    </tr>\n",
       "    <tr>\n",
       "      <th>URM_Pre1945</th>\n",
       "      <td>40</td>\n",
       "      <td>20</td>\n",
       "      <td>5</td>\n",
       "      <td>10</td>\n",
       "    </tr>\n",
       "    <tr>\n",
       "      <th>URM_Post1945</th>\n",
       "      <td>40</td>\n",
       "      <td>20</td>\n",
       "      <td>5</td>\n",
       "      <td>10</td>\n",
       "    </tr>\n",
       "  </tbody>\n",
       "</table>\n",
       "</div>"
      ],
      "text/plain": [
       "                 Severity1  Severity2  Severity3  Severity4\n",
       "Bldg type                                                  \n",
       "Timber_Pre1945          40         20          3          5\n",
       "Timber_Post1945         40         20          3          5\n",
       "URM_Pre1945             40         20          5         10\n",
       "URM_Post1945            40         20          5         10"
      ]
     },
     "execution_count": 173,
     "metadata": {},
     "output_type": "execute_result"
    }
   ],
   "source": [
    "casualty_rate['collapse']"
   ]
  },
  {
   "cell_type": "code",
   "execution_count": 172,
   "metadata": {
    "collapsed": false
   },
   "outputs": [
    {
     "data": {
      "text/plain": [
       "{'Timber_Post1945': 3.0,\n",
       " 'Timber_Pre1945': 3.0,\n",
       " 'URM_Post1945': 15.0,\n",
       " 'URM_Pre1945': 15.0}"
      ]
     },
     "execution_count": 172,
     "metadata": {},
     "output_type": "execute_result"
    }
   ],
   "source": [
    "collapse_rate"
   ]
  },
  {
   "cell_type": "code",
   "execution_count": 174,
   "metadata": {
    "collapsed": true
   },
   "outputs": [],
   "source": [
    "output_path = './'"
   ]
  },
  {
   "cell_type": "code",
   "execution_count": 177,
   "metadata": {
    "collapsed": false
   },
   "outputs": [
    {
     "name": "stdout",
     "output_type": "stream",
     "text": [
      "./bldg_dmg_count.csv is created\n"
     ]
    }
   ],
   "source": [
    "df_damage = assign_damage_state(site, sampled, collapse_rate, damage_thresholds)\n",
    "\n",
    "bldg_dmg_count = pd.DataFrame(0.0, columns=bldg_types,\n",
    "                              index=range(1, len(damage_labels) + 2))\n",
    "for bldg_str, grouped in df_damage.groupby(['BLDG_CLASS']):\n",
    "    #print bldg_str, grouped.shape\n",
    "    bldg_dmg_count[bldg_str] = grouped.apply(pd.value_counts, axis=0).fillna(0.0).mean(axis=1)\n",
    "\n",
    "\n",
    "file_ = os.path.join(output_path, 'bldg_dmg_count.csv')\n",
    "bldg_dmg_count.to_csv(file_)\n",
    "print(\"%s is created\" %file_)\n"
   ]
  },
  {
   "cell_type": "code",
   "execution_count": null,
   "metadata": {
    "collapsed": true
   },
   "outputs": [],
   "source": [
    "# bldg_dmg_count by suburb\n",
    "sub = mel['SUBURB'].unique().tolist()\n",
    "bldg_dmg_count_by_sub = pd.DataFrame(0.0, columns=sub,\n",
    "                              index=range(1, len(damage_labels) + 2))\n",
    "for sub_str, grouped in mel.groupby('SUBURB'):\n",
    "    #print sub_str, grouped.shape\n",
    "    bldg_dmg_count_by_sub[sub_str] = df_damage.ix[grouped.index].apply(pd.value_counts, axis=0).fillna(0.0).mean(axis=1)\n",
    "\n",
    "file_ = os.path.join(output_path, 'bldg_dmg_count_by_sub.csv')\n",
    "bldg_dmg_count_by_sub.to_csv(file_)\n",
    "print(\"%s is created\" %file_)\n",
    "\n"
   ]
  },
  {
   "cell_type": "code",
   "execution_count": null,
   "metadata": {
    "collapsed": false
   },
   "outputs": [],
   "source": [
    "# file_ = os.path.join(data_path, 'sampled_loss_ratio.npy')\n",
    "# np.save(file_, sample)\n",
    "# print \"%s is created\" % file_\n",
    "\n",
    "# del sample\n",
    "\n",
    "# assign casualty rate by damage state\n",
    "# casualty{'Severity'}.DataFrame\n",
    "casualty = assign_casualty(df_damage, casualty_rate)\n",
    "\n",
    "# save casualty\n",
    "# for severity in casualty.keys():\n",
    "#     file_ = os.path.join(data_path, '%s_%s.csv' % ('casualty_rate', severity))\n",
    "#     casualty[severity].to_csv(file_, index=False)\n",
    "#     print \"%s is created\" % file_\n",
    "\n",
    "# multiply casualty with population\n",
    "casualty_number = pd.DataFrame(index=range(nsample),\n",
    "                               columns=casualty_rate.minor_axis)\n",
    "casualty_by_sub = pd.DataFrame(index=casualty_rate.minor_axis, columns=sub)\n",
    "for severity in casualty_rate.minor_axis:\n",
    "    value_ = 0.01*casualty[severity][range(nsample)].multiply(mel['POPULATION'], axis=0)\n",
    "    casualty_number.loc[:, severity] = value_.sum(axis=0)\n",
    "\n",
    "    for sub_str, grouped in mel.groupby('SUBURB'):\n",
    "        #print sub_str, grouped.shape\n",
    "        casualty_by_sub.loc[severity, sub_str] = value_.ix[grouped.index].sum(axis=0).mean()\n",
    "# print casualty_number.mean(axis=0)\n",
    "\n",
    "file_ = os.path.join(output_path, 'casualty_number.csv')\n",
    "casualty_number.to_csv(file_, index=False)\n",
    "print \"%s is created\" % file_\n",
    "\n",
    "# file_ = os.path.join(output_path, 'casualty_by_sub.csv')\n",
    "# casualty_by_sub.to_csv(file_, index=False)\n",
    "# print \"%s is created\" % file_\n",
    "\n"
   ]
  },
  {
   "cell_type": "code",
   "execution_count": null,
   "metadata": {
    "collapsed": true
   },
   "outputs": [],
   "source": []
  }
 ],
 "metadata": {
  "kernelspec": {
   "display_name": "Python 2",
   "language": "python",
   "name": "python2"
  },
  "language_info": {
   "codemirror_mode": {
    "name": "ipython",
    "version": 2
   },
   "file_extension": ".py",
   "mimetype": "text/x-python",
   "name": "python",
   "nbconvert_exporter": "python",
   "pygments_lexer": "ipython2",
   "version": "2.7.12"
  }
 },
 "nbformat": 4,
 "nbformat_minor": 1
}
